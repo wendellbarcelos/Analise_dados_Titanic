{
 "cells": [
  {
   "cell_type": "markdown",
   "id": "f008b4b7",
   "metadata": {},
   "source": [
    "## Time Series\n",
    "\n",
    "Iniciando os estudos usando a biblioteca Datatime"
   ]
  },
  {
   "cell_type": "code",
   "execution_count": 62,
   "id": "88e9d8d6",
   "metadata": {},
   "outputs": [],
   "source": [
    "# Importando as bibliotecas\n",
    "import pandas as pd\n",
    "import numpy as np\n",
    "import matplotlib.pyplot as plt\n",
    "import datetime"
   ]
  },
  {
   "cell_type": "markdown",
   "id": "066c4dd5",
   "metadata": {},
   "source": [
    "### Retornando data e hora atual"
   ]
  },
  {
   "cell_type": "code",
   "execution_count": 2,
   "id": "f6d02e2b",
   "metadata": {},
   "outputs": [
    {
     "name": "stdout",
     "output_type": "stream",
     "text": [
      "2023-05-23 23:16:16.383151\n"
     ]
    }
   ],
   "source": [
    "print(datetime.datetime.now())"
   ]
  },
  {
   "cell_type": "markdown",
   "id": "189b66ce",
   "metadata": {},
   "source": [
    "### TimeDelta"
   ]
  },
  {
   "cell_type": "code",
   "execution_count": 3,
   "id": "4209373b",
   "metadata": {},
   "outputs": [],
   "source": [
    "# Retornando timedelta - que seria o intervalo de tempo entre duas variaveis de tempo\n",
    "antes = datetime.datetime.now()"
   ]
  },
  {
   "cell_type": "code",
   "execution_count": 4,
   "id": "d6296124",
   "metadata": {},
   "outputs": [],
   "source": [
    "depois = datetime.datetime.now()"
   ]
  },
  {
   "cell_type": "code",
   "execution_count": 6,
   "id": "27ca105b",
   "metadata": {},
   "outputs": [
    {
     "data": {
      "text/plain": [
       "datetime.timedelta(seconds=22, microseconds=959135)"
      ]
     },
     "execution_count": 6,
     "metadata": {},
     "output_type": "execute_result"
    }
   ],
   "source": [
    "# O intervalo dos tempos é de 22 sec\n",
    "depois-antes"
   ]
  },
  {
   "cell_type": "markdown",
   "id": "de4bea97",
   "metadata": {},
   "source": [
    "### String para data hora (Strptime)\n",
    "\n",
    "Passando uma string para data e hora"
   ]
  },
  {
   "cell_type": "code",
   "execution_count": 8,
   "id": "194222a3",
   "metadata": {},
   "outputs": [
    {
     "data": {
      "text/plain": [
       "'09/17/20 13:26:35'"
      ]
     },
     "execution_count": 8,
     "metadata": {},
     "output_type": "execute_result"
    }
   ],
   "source": [
    "# Criando a string\n",
    "str_data_hora = '09/17/20 13:26:35'\n",
    "str_data_hora"
   ]
  },
  {
   "cell_type": "code",
   "execution_count": 12,
   "id": "954532ae",
   "metadata": {},
   "outputs": [],
   "source": [
    "# Convertendo a string\n",
    "convert_datetime = datetime.datetime.strptime(str_data_hora, '%m/%d/%y %H:%M:%S')"
   ]
  },
  {
   "cell_type": "code",
   "execution_count": 17,
   "id": "22e9529e",
   "metadata": {},
   "outputs": [
    {
     "name": "stdout",
     "output_type": "stream",
     "text": [
      "2020-09-17 13:26:35\n"
     ]
    }
   ],
   "source": [
    "# Visualizando\n",
    "print(convert_datetime)"
   ]
  },
  {
   "cell_type": "markdown",
   "id": "b96fff74",
   "metadata": {},
   "source": [
    "### String para Data"
   ]
  },
  {
   "cell_type": "code",
   "execution_count": 19,
   "id": "ec490af8",
   "metadata": {},
   "outputs": [],
   "source": [
    "# String\n",
    "str_data = '17/09/2023'"
   ]
  },
  {
   "cell_type": "code",
   "execution_count": 24,
   "id": "85a0aeeb",
   "metadata": {},
   "outputs": [],
   "source": [
    "# Convertendo para datetime - necessário o .date() no final\n",
    "data = datetime.datetime.strptime(str_data, '%d/%m/%Y').date()"
   ]
  },
  {
   "cell_type": "code",
   "execution_count": 25,
   "id": "97c5022f",
   "metadata": {},
   "outputs": [
    {
     "name": "stdout",
     "output_type": "stream",
     "text": [
      "2023-09-17\n"
     ]
    }
   ],
   "source": [
    "# Visualização\n",
    "print(data)"
   ]
  },
  {
   "cell_type": "markdown",
   "id": "0dbf6fc8",
   "metadata": {},
   "source": [
    "### Conversão de String para tempo (Strptime)"
   ]
  },
  {
   "cell_type": "code",
   "execution_count": 29,
   "id": "902cbfe9",
   "metadata": {},
   "outputs": [],
   "source": [
    "# String\n",
    "str_hora = '13:26:35'"
   ]
  },
  {
   "cell_type": "code",
   "execution_count": 31,
   "id": "27f47d25",
   "metadata": {},
   "outputs": [],
   "source": [
    "# Convertendo para datetime - necessário o .time() no final\n",
    "hora = datetime.datetime.strptime(str_hora, '%H:%M:%S').time()"
   ]
  },
  {
   "cell_type": "code",
   "execution_count": 32,
   "id": "9624476e",
   "metadata": {},
   "outputs": [
    {
     "name": "stdout",
     "output_type": "stream",
     "text": [
      "13:26:35\n"
     ]
    }
   ],
   "source": [
    "# Visualização\n",
    "print(hora)"
   ]
  },
  {
   "cell_type": "markdown",
   "id": "980e5dce",
   "metadata": {},
   "source": [
    "### Períodos de Tempo (Frequência)  - String for time"
   ]
  },
  {
   "cell_type": "code",
   "execution_count": 146,
   "id": "1c6e2009",
   "metadata": {},
   "outputs": [],
   "source": [
    "# Criando strings\n",
    "start = '2022/01/01'\n",
    "end = '2022/12/31'"
   ]
  },
  {
   "cell_type": "code",
   "execution_count": 163,
   "id": "71188c59",
   "metadata": {},
   "outputs": [
    {
     "data": {
      "text/plain": [
       "'pt-BR.UTF-8'"
      ]
     },
     "execution_count": 163,
     "metadata": {},
     "output_type": "execute_result"
    }
   ],
   "source": [
    "# Importando o locale para converter para portugues\n",
    "import locale\n",
    "locale.setlocale(locale.LC_ALL, 'pt-BR.UTF-8')"
   ]
  },
  {
   "cell_type": "code",
   "execution_count": 148,
   "id": "47624a86",
   "metadata": {
    "scrolled": true
   },
   "outputs": [
    {
     "data": {
      "text/plain": [
       "Index(['01-31-2022', '02-28-2022', '03-31-2022', '04-30-2022', '05-31-2022',\n",
       "       '06-30-2022', '07-31-2022', '08-31-2022', '09-30-2022', '10-31-2022',\n",
       "       '11-30-2022', '12-31-2022'],\n",
       "      dtype='object')"
      ]
     },
     "execution_count": 148,
     "metadata": {},
     "output_type": "execute_result"
    }
   ],
   "source": [
    "# Gerando um range de datas tendo inicio e fim com uma frequencia\n",
    "x = pd.date_range(start, end, freq='M').strftime('%m-%d-%Y')  # Usando a função para modificar\n",
    "x                                                                  # o formato "
   ]
  },
  {
   "cell_type": "markdown",
   "id": "c14b56d5",
   "metadata": {},
   "source": [
    "### Plot"
   ]
  },
  {
   "cell_type": "code",
   "execution_count": 149,
   "id": "8dc4b0f8",
   "metadata": {},
   "outputs": [
    {
     "data": {
      "text/plain": [
       "array([ 9.68524185,  8.9140976 ,  9.26753801,  8.78747687, 12.08711336,\n",
       "       10.16444123, 11.15020554,  8.73264795, 10.18103513, 11.17786194,\n",
       "        9.66498924, 11.03111446])"
      ]
     },
     "execution_count": 149,
     "metadata": {},
     "output_type": "execute_result"
    }
   ],
   "source": [
    "# Criando uma sequencia de valores para usar no gráfico\n",
    "y = np.random.normal(10, 1, 12) # 12 elementos | com média 10 | desvio padrão 1\n",
    "y"
   ]
  },
  {
   "cell_type": "code",
   "execution_count": 150,
   "id": "768e26f8",
   "metadata": {},
   "outputs": [
    {
     "data": {
      "image/png": "[encoded data removed]",
      "text/plain": [
       "<Figure size 640x480 with 1 Axes>"
      ]
     },
     "metadata": {},
     "output_type": "display_data"
    }
   ],
   "source": [
    "# Formatando o gráfico para receber valores de datetime\n",
    "f, ax= plt.subplots(dpi=100)\n",
    "ax.plot(x, y)  # Usando as datas com os valores gerados randomicamentes\n",
    "f.autofmt_xdate()  # Função formata os meses de forma que não fique embolado\n",
    "plt.show()"
   ]
  },
  {
   "cell_type": "markdown",
   "id": "c429d248",
   "metadata": {},
   "source": [
    "### Dataframe "
   ]
  },
  {
   "cell_type": "code",
   "execution_count": 151,
   "id": "96909c59",
   "metadata": {},
   "outputs": [],
   "source": [
    "# Criando um dataframe a partir dos valores anteriores\n",
    "data = pd.DataFrame({'Datas': x, 'Valores': y})"
   ]
  },
  {
   "cell_type": "code",
   "execution_count": 152,
   "id": "0a52e6fc",
   "metadata": {},
   "outputs": [
    {
     "data": {
      "text/html": [
       "<div>\n",
       "<style scoped>\n",
       "    .dataframe tbody tr th:only-of-type {\n",
       "        vertical-align: middle;\n",
       "    }\n",
       "\n",
       "    .dataframe tbody tr th {\n",
       "        vertical-align: top;\n",
       "    }\n",
       "\n",
       "    .dataframe thead th {\n",
       "        text-align: right;\n",
       "    }\n",
       "</style>\n",
       "<table border=\"1\" class=\"dataframe\">\n",
       "  <thead>\n",
       "    <tr style=\"text-align: right;\">\n",
       "      <th></th>\n",
       "      <th>Datas</th>\n",
       "      <th>Valores</th>\n",
       "    </tr>\n",
       "  </thead>\n",
       "  <tbody>\n",
       "    <tr>\n",
       "      <th>0</th>\n",
       "      <td>01-31-2022</td>\n",
       "      <td>9.685242</td>\n",
       "    </tr>\n",
       "    <tr>\n",
       "      <th>1</th>\n",
       "      <td>02-28-2022</td>\n",
       "      <td>8.914098</td>\n",
       "    </tr>\n",
       "    <tr>\n",
       "      <th>2</th>\n",
       "      <td>03-31-2022</td>\n",
       "      <td>9.267538</td>\n",
       "    </tr>\n",
       "    <tr>\n",
       "      <th>3</th>\n",
       "      <td>04-30-2022</td>\n",
       "      <td>8.787477</td>\n",
       "    </tr>\n",
       "    <tr>\n",
       "      <th>4</th>\n",
       "      <td>05-31-2022</td>\n",
       "      <td>12.087113</td>\n",
       "    </tr>\n",
       "    <tr>\n",
       "      <th>5</th>\n",
       "      <td>06-30-2022</td>\n",
       "      <td>10.164441</td>\n",
       "    </tr>\n",
       "    <tr>\n",
       "      <th>6</th>\n",
       "      <td>07-31-2022</td>\n",
       "      <td>11.150206</td>\n",
       "    </tr>\n",
       "    <tr>\n",
       "      <th>7</th>\n",
       "      <td>08-31-2022</td>\n",
       "      <td>8.732648</td>\n",
       "    </tr>\n",
       "    <tr>\n",
       "      <th>8</th>\n",
       "      <td>09-30-2022</td>\n",
       "      <td>10.181035</td>\n",
       "    </tr>\n",
       "    <tr>\n",
       "      <th>9</th>\n",
       "      <td>10-31-2022</td>\n",
       "      <td>11.177862</td>\n",
       "    </tr>\n",
       "    <tr>\n",
       "      <th>10</th>\n",
       "      <td>11-30-2022</td>\n",
       "      <td>9.664989</td>\n",
       "    </tr>\n",
       "    <tr>\n",
       "      <th>11</th>\n",
       "      <td>12-31-2022</td>\n",
       "      <td>11.031114</td>\n",
       "    </tr>\n",
       "  </tbody>\n",
       "</table>\n",
       "</div>"
      ],
      "text/plain": [
       "         Datas    Valores\n",
       "0   01-31-2022   9.685242\n",
       "1   02-28-2022   8.914098\n",
       "2   03-31-2022   9.267538\n",
       "3   04-30-2022   8.787477\n",
       "4   05-31-2022  12.087113\n",
       "5   06-30-2022  10.164441\n",
       "6   07-31-2022  11.150206\n",
       "7   08-31-2022   8.732648\n",
       "8   09-30-2022  10.181035\n",
       "9   10-31-2022  11.177862\n",
       "10  11-30-2022   9.664989\n",
       "11  12-31-2022  11.031114"
      ]
     },
     "execution_count": 152,
     "metadata": {},
     "output_type": "execute_result"
    }
   ],
   "source": [
    "data"
   ]
  },
  {
   "cell_type": "markdown",
   "id": "8cd1b84f",
   "metadata": {},
   "source": [
    "### Index de Datas (DatatimeIndex)"
   ]
  },
  {
   "cell_type": "code",
   "execution_count": 153,
   "id": "14aedc2e",
   "metadata": {},
   "outputs": [
    {
     "name": "stdout",
     "output_type": "stream",
     "text": [
      "<class 'pandas.core.frame.DataFrame'>\n",
      "RangeIndex: 12 entries, 0 to 11\n",
      "Data columns (total 2 columns):\n",
      " #   Column   Non-Null Count  Dtype  \n",
      "---  ------   --------------  -----  \n",
      " 0   Datas    12 non-null     object \n",
      " 1   Valores  12 non-null     float64\n",
      "dtypes: float64(1), object(1)\n",
      "memory usage: 320.0+ bytes\n"
     ]
    }
   ],
   "source": [
    "# Visualizando que as datas estão no formato objeto sendo necessário converter\n",
    "data.info()"
   ]
  },
  {
   "cell_type": "code",
   "execution_count": 154,
   "id": "41dad11c",
   "metadata": {},
   "outputs": [],
   "source": [
    "# convertendo a coluna datas para datetime\n",
    "data['Datas'] = pd.DatetimeIndex(data['Datas'])"
   ]
  },
  {
   "cell_type": "code",
   "execution_count": 155,
   "id": "efe93520",
   "metadata": {
    "scrolled": true
   },
   "outputs": [
    {
     "data": {
      "text/plain": [
       "0    2022-01-31\n",
       "1    2022-02-28\n",
       "2    2022-03-31\n",
       "3    2022-04-30\n",
       "4    2022-05-31\n",
       "5    2022-06-30\n",
       "6    2022-07-31\n",
       "7    2022-08-31\n",
       "8    2022-09-30\n",
       "9    2022-10-31\n",
       "10   2022-11-30\n",
       "11   2022-12-31\n",
       "Name: Datas, dtype: datetime64[ns]"
      ]
     },
     "execution_count": 155,
     "metadata": {},
     "output_type": "execute_result"
    }
   ],
   "source": [
    "# Visualizando conversão\n",
    "data['Datas']"
   ]
  },
  {
   "cell_type": "code",
   "execution_count": 159,
   "id": "58d3dfa8",
   "metadata": {},
   "outputs": [],
   "source": [
    "# Convertendo coluna Datas em index\n",
    "data.set_index('Datas', inplace=True)"
   ]
  },
  {
   "cell_type": "code",
   "execution_count": 160,
   "id": "e90336e2",
   "metadata": {},
   "outputs": [],
   "source": [
    "# Criando uma coluna com valores irregulares \n",
    "data['Data String'] = data.index.strftime('%d/%b/%y')"
   ]
  },
  {
   "cell_type": "code",
   "execution_count": 161,
   "id": "56964b5c",
   "metadata": {},
   "outputs": [
    {
     "data": {
      "text/html": [
       "<div>\n",
       "<style scoped>\n",
       "    .dataframe tbody tr th:only-of-type {\n",
       "        vertical-align: middle;\n",
       "    }\n",
       "\n",
       "    .dataframe tbody tr th {\n",
       "        vertical-align: top;\n",
       "    }\n",
       "\n",
       "    .dataframe thead th {\n",
       "        text-align: right;\n",
       "    }\n",
       "</style>\n",
       "<table border=\"1\" class=\"dataframe\">\n",
       "  <thead>\n",
       "    <tr style=\"text-align: right;\">\n",
       "      <th></th>\n",
       "      <th>Valores</th>\n",
       "      <th>Data String</th>\n",
       "    </tr>\n",
       "    <tr>\n",
       "      <th>Datas</th>\n",
       "      <th></th>\n",
       "      <th></th>\n",
       "    </tr>\n",
       "  </thead>\n",
       "  <tbody>\n",
       "    <tr>\n",
       "      <th>2022-01-31</th>\n",
       "      <td>9.685242</td>\n",
       "      <td>31/jan/22</td>\n",
       "    </tr>\n",
       "    <tr>\n",
       "      <th>2022-02-28</th>\n",
       "      <td>8.914098</td>\n",
       "      <td>28/fev/22</td>\n",
       "    </tr>\n",
       "    <tr>\n",
       "      <th>2022-03-31</th>\n",
       "      <td>9.267538</td>\n",
       "      <td>31/mar/22</td>\n",
       "    </tr>\n",
       "    <tr>\n",
       "      <th>2022-04-30</th>\n",
       "      <td>8.787477</td>\n",
       "      <td>30/abr/22</td>\n",
       "    </tr>\n",
       "    <tr>\n",
       "      <th>2022-05-31</th>\n",
       "      <td>12.087113</td>\n",
       "      <td>31/mai/22</td>\n",
       "    </tr>\n",
       "    <tr>\n",
       "      <th>2022-06-30</th>\n",
       "      <td>10.164441</td>\n",
       "      <td>30/jun/22</td>\n",
       "    </tr>\n",
       "    <tr>\n",
       "      <th>2022-07-31</th>\n",
       "      <td>11.150206</td>\n",
       "      <td>31/jul/22</td>\n",
       "    </tr>\n",
       "    <tr>\n",
       "      <th>2022-08-31</th>\n",
       "      <td>8.732648</td>\n",
       "      <td>31/ago/22</td>\n",
       "    </tr>\n",
       "    <tr>\n",
       "      <th>2022-09-30</th>\n",
       "      <td>10.181035</td>\n",
       "      <td>30/set/22</td>\n",
       "    </tr>\n",
       "    <tr>\n",
       "      <th>2022-10-31</th>\n",
       "      <td>11.177862</td>\n",
       "      <td>31/out/22</td>\n",
       "    </tr>\n",
       "    <tr>\n",
       "      <th>2022-11-30</th>\n",
       "      <td>9.664989</td>\n",
       "      <td>30/nov/22</td>\n",
       "    </tr>\n",
       "    <tr>\n",
       "      <th>2022-12-31</th>\n",
       "      <td>11.031114</td>\n",
       "      <td>31/dez/22</td>\n",
       "    </tr>\n",
       "  </tbody>\n",
       "</table>\n",
       "</div>"
      ],
      "text/plain": [
       "              Valores Data String\n",
       "Datas                            \n",
       "2022-01-31   9.685242   31/jan/22\n",
       "2022-02-28   8.914098   28/fev/22\n",
       "2022-03-31   9.267538   31/mar/22\n",
       "2022-04-30   8.787477   30/abr/22\n",
       "2022-05-31  12.087113   31/mai/22\n",
       "2022-06-30  10.164441   30/jun/22\n",
       "2022-07-31  11.150206   31/jul/22\n",
       "2022-08-31   8.732648   31/ago/22\n",
       "2022-09-30  10.181035   30/set/22\n",
       "2022-10-31  11.177862   31/out/22\n",
       "2022-11-30   9.664989   30/nov/22\n",
       "2022-12-31  11.031114   31/dez/22"
      ]
     },
     "execution_count": 161,
     "metadata": {},
     "output_type": "execute_result"
    }
   ],
   "source": [
    "# Visualizando a nova coluna\n",
    "data"
   ]
  },
  {
   "cell_type": "code",
   "execution_count": 164,
   "id": "d45e4369",
   "metadata": {},
   "outputs": [],
   "source": [
    "# Convertendo a coluna para datetime novamente usando o pandas e passando o formato dos valores\n",
    "data['Data String'] = pd.to_datetime(data['Data String'], format='%d/%b/%y')"
   ]
  },
  {
   "cell_type": "code",
   "execution_count": 166,
   "id": "47d8125c",
   "metadata": {},
   "outputs": [
    {
     "data": {
      "text/plain": [
       "Datas\n",
       "2022-01-31   2022-01-31\n",
       "2022-02-28   2022-02-28\n",
       "2022-03-31   2022-03-31\n",
       "2022-04-30   2022-04-30\n",
       "2022-05-31   2022-05-31\n",
       "2022-06-30   2022-06-30\n",
       "2022-07-31   2022-07-31\n",
       "2022-08-31   2022-08-31\n",
       "2022-09-30   2022-09-30\n",
       "2022-10-31   2022-10-31\n",
       "2022-11-30   2022-11-30\n",
       "2022-12-31   2022-12-31\n",
       "Name: Data String, dtype: datetime64[ns]"
      ]
     },
     "execution_count": 166,
     "metadata": {},
     "output_type": "execute_result"
    }
   ],
   "source": [
    "# Visualizando\n",
    "data['Data String']"
   ]
  },
  {
   "cell_type": "code",
   "execution_count": null,
   "id": "e3bae27b",
   "metadata": {},
   "outputs": [],
   "source": []
  },
  {
   "cell_type": "code",
   "execution_count": null,
   "id": "aa89750c",
   "metadata": {},
   "outputs": [],
   "source": []
  },
  {
   "cell_type": "code",
   "execution_count": null,
   "id": "a6c077b4",
   "metadata": {},
   "outputs": [],
   "source": []
  },
  {
   "cell_type": "code",
   "execution_count": null,
   "id": "4fee3625",
   "metadata": {},
   "outputs": [],
   "source": []
  },
  {
   "cell_type": "code",
   "execution_count": null,
   "id": "7eafd003",
   "metadata": {},
   "outputs": [],
   "source": []
  },
  {
   "cell_type": "code",
   "execution_count": null,
   "id": "e510bbf9",
   "metadata": {},
   "outputs": [],
   "source": []
  },
  {
   "cell_type": "code",
   "execution_count": null,
   "id": "3ec33e83",
   "metadata": {},
   "outputs": [],
   "source": []
  },
  {
   "cell_type": "code",
   "execution_count": null,
   "id": "c5d5ee7b",
   "metadata": {},
   "outputs": [],
   "source": []
  }
 ],
 "metadata": {
  "kernelspec": {
   "display_name": "Python 3 (ipykernel)",
   "language": "python",
   "name": "python3"
  },
  "language_info": {
   "codemirror_mode": {
    "name": "ipython",
    "version": 3
   },
   "file_extension": ".py",
   "mimetype": "text/x-python",
   "name": "python",
   "nbconvert_exporter": "python",
   "pygments_lexer": "ipython3",
   "version": "3.10.9"
  }
 },
 "nbformat": 4,
 "nbformat_minor": 5
}
